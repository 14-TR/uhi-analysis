{
 "cells": [
  {
   "cell_type": "code",
   "execution_count": 1,
   "id": "ab5be445",
   "metadata": {},
   "outputs": [],
   "source": [
    "# Environment Setup & Imports\n",
    "import ee\n",
    "import geemap\n",
    "import geopandas as gpd\n",
    "import pandas as pd\n",
    "import rasterio\n",
    "import numpy as np\n",
    "import matplotlib.pyplot as plt\n",
    "\n",
    "folder = 'GEE_UHI_2013_2024'"
   ]
  },
  {
   "cell_type": "code",
   "execution_count": 2,
   "id": "e2ec316d-e892-43ec-b1a6-66453eab1158",
   "metadata": {},
   "outputs": [
    {
     "data": {
      "text/html": [
       "\n",
       "            <style>\n",
       "                .geemap-dark {\n",
       "                    --jp-widgets-color: white;\n",
       "                    --jp-widgets-label-color: white;\n",
       "                    --jp-ui-font-color1: white;\n",
       "                    --jp-layout-color2: #454545;\n",
       "                    background-color: #383838;\n",
       "                }\n",
       "\n",
       "                .geemap-dark .jupyter-button {\n",
       "                    --jp-layout-color3: #383838;\n",
       "                }\n",
       "\n",
       "                .geemap-colab {\n",
       "                    background-color: var(--colab-primary-surface-color, white);\n",
       "                }\n",
       "\n",
       "                .geemap-colab .jupyter-button {\n",
       "                    --jp-layout-color3: var(--colab-primary-surface-color, white);\n",
       "                }\n",
       "            </style>\n",
       "            "
      ],
      "text/plain": [
       "<IPython.core.display.HTML object>"
      ]
     },
     "metadata": {},
     "output_type": "display_data"
    },
    {
     "name": "stdout",
     "output_type": "stream",
     "text": [
      "Environment ready. GEE Initialized.\n"
     ]
    }
   ],
   "source": [
    "# Init GEE\n",
    "ee.Initialize(project='ee-uhi-analysis')\n",
    "\n",
    "print(\"Environment ready. GEE Initialized.\")\n"
   ]
  },
  {
   "cell_type": "code",
   "execution_count": 3,
   "id": "7c7a8560",
   "metadata": {},
   "outputs": [
    {
     "data": {
      "text/html": [
       "\n",
       "            <style>\n",
       "                .geemap-dark {\n",
       "                    --jp-widgets-color: white;\n",
       "                    --jp-widgets-label-color: white;\n",
       "                    --jp-ui-font-color1: white;\n",
       "                    --jp-layout-color2: #454545;\n",
       "                    background-color: #383838;\n",
       "                }\n",
       "\n",
       "                .geemap-dark .jupyter-button {\n",
       "                    --jp-layout-color3: #383838;\n",
       "                }\n",
       "\n",
       "                .geemap-colab {\n",
       "                    background-color: var(--colab-primary-surface-color, white);\n",
       "                }\n",
       "\n",
       "                .geemap-colab .jupyter-button {\n",
       "                    --jp-layout-color3: var(--colab-primary-surface-color, white);\n",
       "                }\n",
       "            </style>\n",
       "            "
      ],
      "text/plain": [
       "<IPython.core.display.HTML object>"
      ]
     },
     "metadata": {},
     "output_type": "display_data"
    },
    {
     "data": {
      "application/vnd.jupyter.widget-view+json": {
       "model_id": "1fae39fac29c4d7488a0ac96d83e591e",
       "version_major": 2,
       "version_minor": 0
      },
      "text/plain": [
       "Map(center=[41.14, -104.82], controls=(WidgetControl(options=['position', 'transparent_bg'], widget=SearchData…"
      ]
     },
     "execution_count": 3,
     "metadata": {},
     "output_type": "execute_result"
    }
   ],
   "source": [
    "\n",
    "\n",
    "# Create interactive map for AOI selection\n",
    "Map = geemap.Map(center=[41.14, -104.82], zoom=12)\n",
    "Map.add_basemap('SATELLITE')\n",
    "Map\n",
    "\n",
    "# Draw AOI: Click the map, use drawing tools (polygon/rectangle), export as GeoJSON\n"
   ]
  },
  {
   "cell_type": "code",
   "execution_count": 4,
   "id": "3ad9a206",
   "metadata": {},
   "outputs": [
    {
     "data": {
      "text/html": [
       "\n",
       "            <style>\n",
       "                .geemap-dark {\n",
       "                    --jp-widgets-color: white;\n",
       "                    --jp-widgets-label-color: white;\n",
       "                    --jp-ui-font-color1: white;\n",
       "                    --jp-layout-color2: #454545;\n",
       "                    background-color: #383838;\n",
       "                }\n",
       "\n",
       "                .geemap-dark .jupyter-button {\n",
       "                    --jp-layout-color3: #383838;\n",
       "                }\n",
       "\n",
       "                .geemap-colab {\n",
       "                    background-color: var(--colab-primary-surface-color, white);\n",
       "                }\n",
       "\n",
       "                .geemap-colab .jupyter-button {\n",
       "                    --jp-layout-color3: var(--colab-primary-surface-color, white);\n",
       "                }\n",
       "            </style>\n",
       "            "
      ],
      "text/plain": [
       "<IPython.core.display.HTML object>"
      ]
     },
     "metadata": {},
     "output_type": "display_data"
    },
    {
     "name": "stdout",
     "output_type": "stream",
     "text": [
      "AOI successfully set as study_area.\n"
     ]
    }
   ],
   "source": [
    "aoi = Map.user_roi\n",
    "\n",
    "if aoi:\n",
    "    #  use it directly if able\n",
    "    if isinstance(aoi, ee.Geometry):\n",
    "        study_area = aoi\n",
    "    elif isinstance(aoi, ee.Feature):\n",
    "        study_area = aoi.geometry()\n",
    "    elif isinstance(aoi, dict):  \n",
    "        study_area = ee.Geometry(aoi[\"geometry\"])\n",
    "    else:\n",
    "        raise ValueError(\"Unsupported AOI type\")\n",
    "\n",
    "    Map.addLayer(study_area, {}, \"Selected Study Area\")\n",
    "    print(\"AOI successfully set as study_area.\")\n",
    "else:\n",
    "    print(\"No geometry drawn. Please draw an AOI on the map.\")\n"
   ]
  },
  {
   "cell_type": "code",
   "execution_count": 5,
   "id": "eefb669e",
   "metadata": {},
   "outputs": [
    {
     "data": {
      "text/html": [
       "\n",
       "            <style>\n",
       "                .geemap-dark {\n",
       "                    --jp-widgets-color: white;\n",
       "                    --jp-widgets-label-color: white;\n",
       "                    --jp-ui-font-color1: white;\n",
       "                    --jp-layout-color2: #454545;\n",
       "                    background-color: #383838;\n",
       "                }\n",
       "\n",
       "                .geemap-dark .jupyter-button {\n",
       "                    --jp-layout-color3: #383838;\n",
       "                }\n",
       "\n",
       "                .geemap-colab {\n",
       "                    background-color: var(--colab-primary-surface-color, white);\n",
       "                }\n",
       "\n",
       "                .geemap-colab .jupyter-button {\n",
       "                    --jp-layout-color3: var(--colab-primary-surface-color, white);\n",
       "                }\n",
       "            </style>\n",
       "            "
      ],
      "text/plain": [
       "<IPython.core.display.HTML object>"
      ]
     },
     "metadata": {},
     "output_type": "display_data"
    }
   ],
   "source": [
    "def process_year(year, study_area):\n",
    "    \"\"\"Process and export NDVI + LST using Landsat 8 for any given year.\"\"\"\n",
    "    print(f\"Processing year: {year} with Landsat 8\")\n",
    "\n",
    "    start_date = f'{year}-06-01'\n",
    "    end_date = f'{year}-08-31'\n",
    "\n",
    "    # Landsat 8 Collection\n",
    "    imagery = ee.ImageCollection('LANDSAT/LC08/C02/T1_L2') \\\n",
    "        .filterBounds(study_area) \\\n",
    "        .filterDate(start_date, end_date) \\\n",
    "        .median()\n",
    "\n",
    "    # NDVI & LST Calculation\n",
    "    ndvi = imagery.normalizedDifference(['SR_B5', 'SR_B4']).rename('NDVI').toFloat()\n",
    "    lst = imagery.select('ST_B10').multiply(0.00341802).add(149.0).rename('LST').toFloat()\n",
    "    export_image = ndvi.addBands(lst)\n",
    "\n",
    "    # DEBUG: Image Info\n",
    "    band_names = export_image.bandNames().getInfo()\n",
    "    print(f\"Bands: {band_names}\")\n",
    "\n",
    "    # Export Task\n",
    "    task = ee.batch.Export.image.toDrive(\n",
    "        image=export_image.clip(study_area),\n",
    "        description=f'NDVI_LST_{year}',\n",
    "        folder='GEE_UHI_2013_2024',  \n",
    "        scale=30,\n",
    "        region=study_area.bounds().getInfo()['coordinates'],\n",
    "        fileFormat='GeoTIFF'\n",
    "    )\n",
    "    task.start()\n",
    "    print(f\"Export task started for year {year} | Task ID: {task.id}\")\n"
   ]
  },
  {
   "cell_type": "code",
   "execution_count": 7,
   "id": "764a66ff",
   "metadata": {},
   "outputs": [
    {
     "data": {
      "text/html": [
       "\n",
       "            <style>\n",
       "                .geemap-dark {\n",
       "                    --jp-widgets-color: white;\n",
       "                    --jp-widgets-label-color: white;\n",
       "                    --jp-ui-font-color1: white;\n",
       "                    --jp-layout-color2: #454545;\n",
       "                    background-color: #383838;\n",
       "                }\n",
       "\n",
       "                .geemap-dark .jupyter-button {\n",
       "                    --jp-layout-color3: #383838;\n",
       "                }\n",
       "\n",
       "                .geemap-colab {\n",
       "                    background-color: var(--colab-primary-surface-color, white);\n",
       "                }\n",
       "\n",
       "                .geemap-colab .jupyter-button {\n",
       "                    --jp-layout-color3: var(--colab-primary-surface-color, white);\n",
       "                }\n",
       "            </style>\n",
       "            "
      ],
      "text/plain": [
       "<IPython.core.display.HTML object>"
      ]
     },
     "metadata": {},
     "output_type": "display_data"
    },
    {
     "name": "stdout",
     "output_type": "stream",
     "text": [
      "Processing year: 2013 with Landsat 8\n",
      "Bands: ['NDVI', 'LST']\n",
      "Export task started for year 2013 | Task ID: 44KBVQRS3MLFR2IJCCH6RXM2\n",
      "Processing year: 2014 with Landsat 8\n",
      "Bands: ['NDVI', 'LST']\n",
      "Export task started for year 2014 | Task ID: FIYYBZOGKQPS7LEQNHVY2O5C\n",
      "Processing year: 2015 with Landsat 8\n",
      "Bands: ['NDVI', 'LST']\n",
      "Export task started for year 2015 | Task ID: JZ6LRIJBAIPRJQM5QBO5UAC7\n",
      "Processing year: 2016 with Landsat 8\n",
      "Bands: ['NDVI', 'LST']\n",
      "Export task started for year 2016 | Task ID: XPY4E2YWDRYUAYUQOKDH7D32\n",
      "Processing year: 2017 with Landsat 8\n",
      "Bands: ['NDVI', 'LST']\n",
      "Export task started for year 2017 | Task ID: 2ZRTKXU2V2FA46BFAMIU7UX4\n",
      "Processing year: 2018 with Landsat 8\n",
      "Bands: ['NDVI', 'LST']\n",
      "Export task started for year 2018 | Task ID: NGJ3CHIWA5N2A2XXNAVGNWRW\n",
      "Processing year: 2019 with Landsat 8\n",
      "Bands: ['NDVI', 'LST']\n",
      "Export task started for year 2019 | Task ID: ZOQLUV3I4WBNACW37LBBPIOT\n",
      "Processing year: 2020 with Landsat 8\n",
      "Bands: ['NDVI', 'LST']\n",
      "Export task started for year 2020 | Task ID: 2NXWOICELHL3OUR2W2WBQ34E\n",
      "Processing year: 2021 with Landsat 8\n",
      "Bands: ['NDVI', 'LST']\n",
      "Export task started for year 2021 | Task ID: EAWRX6NXXEEBJS424JU7XNLH\n",
      "Processing year: 2022 with Landsat 8\n",
      "Bands: ['NDVI', 'LST']\n",
      "Export task started for year 2022 | Task ID: YJF3HTFJJ72TWIMZJBN2H3YV\n",
      "Processing year: 2023 with Landsat 8\n",
      "Bands: ['NDVI', 'LST']\n",
      "Export task started for year 2023 | Task ID: X2BEMVHHJWSLG4OHPGO4KYZZ\n",
      "Processing year: 2024 with Landsat 8\n",
      "Bands: ['NDVI', 'LST']\n",
      "Export task started for year 2024 | Task ID: AOYSW457BNW4LHZT6K3QDZRR\n"
     ]
    }
   ],
   "source": [
    "# Run processing for each year\n",
    "years = range(2013, 2025)\n",
    "for year in years:\n",
    "    process_year(year, study_area)"
   ]
  },
  {
   "cell_type": "code",
   "execution_count": 9,
   "id": "acc2daa5",
   "metadata": {},
   "outputs": [
    {
     "data": {
      "text/html": [
       "\n",
       "            <style>\n",
       "                .geemap-dark {\n",
       "                    --jp-widgets-color: white;\n",
       "                    --jp-widgets-label-color: white;\n",
       "                    --jp-ui-font-color1: white;\n",
       "                    --jp-layout-color2: #454545;\n",
       "                    background-color: #383838;\n",
       "                }\n",
       "\n",
       "                .geemap-dark .jupyter-button {\n",
       "                    --jp-layout-color3: #383838;\n",
       "                }\n",
       "\n",
       "                .geemap-colab {\n",
       "                    background-color: var(--colab-primary-surface-color, white);\n",
       "                }\n",
       "\n",
       "                .geemap-colab .jupyter-button {\n",
       "                    --jp-layout-color3: var(--colab-primary-surface-color, white);\n",
       "                }\n",
       "            </style>\n",
       "            "
      ],
      "text/plain": [
       "<IPython.core.display.HTML object>"
      ]
     },
     "metadata": {},
     "output_type": "display_data"
    },
    {
     "name": "stdout",
     "output_type": "stream",
     "text": [
      "Your browser has been opened to visit:\n",
      "\n",
      "    https://accounts.google.com/o/oauth2/auth?client_id=144780512349-929mvf5b2gn1qqpggq5dil6ptnpctt49.apps.googleusercontent.com&redirect_uri=http%3A%2F%2Flocalhost%3A8080%2F&scope=https%3A%2F%2Fwww.googleapis.com%2Fauth%2Fdrive&access_type=online&response_type=code\n",
      "\n",
      "Authentication successful.\n"
     ]
    }
   ],
   "source": [
    "from pydrive2.auth import GoogleAuth\n",
    "from pydrive2.drive import GoogleDrive\n",
    "import os\n",
    "\n",
    "# auth and create drive instance\n",
    "gauth = GoogleAuth()\n",
    "gauth.LocalWebserverAuth()\n",
    "drive = GoogleDrive(gauth)"
   ]
  },
  {
   "cell_type": "code",
   "execution_count": 10,
   "id": "6f5b72ce",
   "metadata": {},
   "outputs": [
    {
     "data": {
      "text/html": [
       "\n",
       "            <style>\n",
       "                .geemap-dark {\n",
       "                    --jp-widgets-color: white;\n",
       "                    --jp-widgets-label-color: white;\n",
       "                    --jp-ui-font-color1: white;\n",
       "                    --jp-layout-color2: #454545;\n",
       "                    background-color: #383838;\n",
       "                }\n",
       "\n",
       "                .geemap-dark .jupyter-button {\n",
       "                    --jp-layout-color3: #383838;\n",
       "                }\n",
       "\n",
       "                .geemap-colab {\n",
       "                    background-color: var(--colab-primary-surface-color, white);\n",
       "                }\n",
       "\n",
       "                .geemap-colab .jupyter-button {\n",
       "                    --jp-layout-color3: var(--colab-primary-surface-color, white);\n",
       "                }\n",
       "            </style>\n",
       "            "
      ],
      "text/plain": [
       "<IPython.core.display.HTML object>"
      ]
     },
     "metadata": {},
     "output_type": "display_data"
    },
    {
     "name": "stdout",
     "output_type": "stream",
     "text": [
      "INFO Export folder found: GEE_UHI_2013_2024 (ID: 1qBzvGF3q6MUmqN1rptnNIExSe-9KF72O)\n",
      "Downloading NDVI_LST_2015.tif...\n",
      "Downloading NDVI_LST_2024.tif...\n",
      "Downloading NDVI_LST_2014.tif...\n",
      "Downloading NDVI_LST_2022.tif...\n",
      "Downloading NDVI_LST_2013.tif...\n",
      "Downloading NDVI_LST_2023.tif...\n",
      "Downloading NDVI_LST_2019.tif...\n",
      "Downloading NDVI_LST_2018.tif...\n",
      "Downloading NDVI_LST_2021.tif...\n",
      "Downloading NDVI_LST_2020.tif...\n",
      "Downloading NDVI_LST_2017.tif...\n",
      "Downloading NDVI_LST_2016.tif...\n",
      "All files downloaded to: ../uhi-analysis/gee_exports\n"
     ]
    }
   ],
   "source": [
    "# export and output dir\n",
    "export_folder_name = 'GEE_UHI_2013_2024'\n",
    "local_download_dir = '../uhi-analysis/gee_exports'  \n",
    "\n",
    "# Ensure local download directory exists\n",
    "os.makedirs(local_download_dir, exist_ok=True)\n",
    "\n",
    "# Get list of all files in Drive root\n",
    "file_list = drive.ListFile({'q': \"trashed=false\"}).GetList()\n",
    "\n",
    "# Find export folder ID\n",
    "folder_id = None\n",
    "for file in file_list:\n",
    "    if file['title'] == export_folder_name and file['mimeType'] == 'application/vnd.google-apps.folder':\n",
    "        folder_id = file['id']\n",
    "        break\n",
    "\n",
    "if not folder_id:\n",
    "    print(f\"ERROR Folder '{export_folder_name}' not found in Drive.\")\n",
    "else:\n",
    "    print(f\"INFO Export folder found: {export_folder_name} (ID: {folder_id})\")\n",
    "\n",
    "    # Get files in export folder\n",
    "    export_files = drive.ListFile({'q': f\"'{folder_id}' in parents and trashed=false\"}).GetList()\n",
    "\n",
    "    # Download each\n",
    "    for f in export_files:\n",
    "        print(f\"Downloading {f['title']}...\")\n",
    "        f.GetContentFile(os.path.join(local_download_dir, f['title']))\n",
    "    print(f\"All files downloaded to: {local_download_dir}\")\n"
   ]
  },
  {
   "cell_type": "code",
   "execution_count": null,
   "id": "5738443d",
   "metadata": {},
   "outputs": [],
   "source": []
  }
 ],
 "metadata": {
  "kernelspec": {
   "display_name": "uhi_env",
   "language": "python",
   "name": "python3"
  },
  "language_info": {
   "codemirror_mode": {
    "name": "ipython",
    "version": 3
   },
   "file_extension": ".py",
   "mimetype": "text/x-python",
   "name": "python",
   "nbconvert_exporter": "python",
   "pygments_lexer": "ipython3",
   "version": "3.12.7"
  }
 },
 "nbformat": 4,
 "nbformat_minor": 5
}
