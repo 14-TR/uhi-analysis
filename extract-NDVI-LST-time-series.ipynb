{
 "cells": [
  {
   "cell_type": "code",
   "execution_count": 5,
   "metadata": {},
   "outputs": [],
   "source": [
    "import os\n",
    "import rasterio\n",
    "import numpy as np\n",
    "import pandas as pd\n",
    "import matplotlib.pyplot as plt\n"
   ]
  },
  {
   "cell_type": "code",
   "execution_count": 6,
   "metadata": {},
   "outputs": [],
   "source": [
    "# data dir path\n",
    "data_dir = \"../uhi-analysis/gee_exports\"\n",
    "\n",
    "# init lists for results\n",
    "years = []\n",
    "mean_ndvi = []\n",
    "mean_lst = []\n"
   ]
  },
  {
   "cell_type": "code",
   "execution_count": 7,
   "metadata": {},
   "outputs": [],
   "source": [
    "def extract_ndvi_lst_timeseries(data_dir):\n",
    "    \"\"\"Extract mean NDVI and LST from GeoTIFFs in a folder and return DataFrame.\"\"\"\n",
    "    \n",
    "    def process_file(file_path):\n",
    "        \"\"\"Process individual GeoTIFF and return year, NDVI mean, and LST mean.\"\"\"\n",
    "        file_name = os.path.basename(file_path)\n",
    "        year = int(file_name.split(\"_\")[-1].replace(\".tif\", \"\"))\n",
    "        print(f\"🔍 Processing {file_name}\")\n",
    "\n",
    "        with rasterio.open(file_path) as src:\n",
    "            image = src.read()\n",
    "            ndvi_data = image[0, :, :]\n",
    "            lst_data = image[1, :, :] if image.shape[0] > 1 else None\n",
    "\n",
    "            ndvi_valid = ndvi_data[ndvi_data != src.nodata]\n",
    "            ndvi_mean = np.mean(ndvi_valid)\n",
    "\n",
    "            if lst_data is not None:\n",
    "                lst_valid = lst_data[lst_data != src.nodata]\n",
    "                lst_mean = np.mean(lst_valid)\n",
    "            else:\n",
    "                lst_mean = np.nan\n",
    "\n",
    "        return year, ndvi_mean, lst_mean\n",
    "\n",
    "    # Filter and process all valid files\n",
    "    all_files = [f for f in sorted(os.listdir(data_dir)) \n",
    "                 if f.endswith(\".tif\") and \"NDVI_LST_\" in f]\n",
    "    results = [process_file(os.path.join(data_dir, f)) for f in all_files]\n",
    "\n",
    "    # Unpack results into DataFrame\n",
    "    df = pd.DataFrame(results, columns=['Year', 'Mean_NDVI', 'Mean_LST'])\n",
    "    df.sort_values(by='Year', inplace=True)\n",
    "    \n",
    "    print(\"\\n📊 Extracted NDVI/LST Means:\")\n",
    "    print(df)\n",
    "\n",
    "    # Optional: Save to CSV\n",
    "    df.to_csv(\"NDVI_LST_Timeseries.csv\", index=False)\n",
    "\n",
    "    return df"
   ]
  },
  {
   "cell_type": "code",
   "execution_count": 8,
   "metadata": {},
   "outputs": [
    {
     "name": "stdout",
     "output_type": "stream",
     "text": [
      "🔍 Processing NDVI_LST_2013.tif\n",
      "🔍 Processing NDVI_LST_2014.tif\n",
      "🔍 Processing NDVI_LST_2015.tif\n",
      "🔍 Processing NDVI_LST_2016.tif\n",
      "🔍 Processing NDVI_LST_2017.tif\n",
      "🔍 Processing NDVI_LST_2018.tif\n",
      "🔍 Processing NDVI_LST_2019.tif\n",
      "🔍 Processing NDVI_LST_2020.tif\n",
      "🔍 Processing NDVI_LST_2021.tif\n",
      "🔍 Processing NDVI_LST_2022.tif\n",
      "🔍 Processing NDVI_LST_2023.tif\n",
      "🔍 Processing NDVI_LST_2024.tif\n",
      "\n",
      "📊 Extracted NDVI/LST Means:\n",
      "    Year  Mean_NDVI    Mean_LST\n",
      "0   2013   0.161491  312.918915\n",
      "1   2014   0.213335  309.964661\n",
      "2   2015   0.202855  310.279694\n",
      "3   2016   0.173177  317.306915\n",
      "4   2017   0.166237  312.090149\n",
      "5   2018   0.185763  313.077942\n",
      "6   2019   0.192487  298.960815\n",
      "7   2020   0.145172  317.600769\n",
      "8   2021   0.180933  304.367371\n",
      "9   2022   0.127046  315.007263\n",
      "10  2023   0.233329  305.560181\n",
      "11  2024   0.135826  311.083008\n"
     ]
    }
   ],
   "source": [
    "ndvi_lst_df = extract_ndvi_lst_timeseries(data_dir)"
   ]
  }
 ],
 "metadata": {
  "kernelspec": {
   "display_name": "uhi_env",
   "language": "python",
   "name": "python3"
  },
  "language_info": {
   "codemirror_mode": {
    "name": "ipython",
    "version": 3
   },
   "file_extension": ".py",
   "mimetype": "text/x-python",
   "name": "python",
   "nbconvert_exporter": "python",
   "pygments_lexer": "ipython3",
   "version": "3.12.7"
  }
 },
 "nbformat": 4,
 "nbformat_minor": 2
}
