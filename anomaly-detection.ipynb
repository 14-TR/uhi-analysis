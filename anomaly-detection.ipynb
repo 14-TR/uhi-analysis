{
 "cells": [
  {
   "cell_type": "code",
   "execution_count": 3,
   "metadata": {},
   "outputs": [
    {
     "name": "stdout",
     "output_type": "stream",
     "text": [
      "Columns: ['Year', 'Mean_NDVI', 'Mean_LST']\n",
      "First few rows:\n",
      "    Year  Mean_NDVI   Mean_LST\n",
      "0  2013   0.161491  312.91890\n",
      "1  2014   0.213335  309.96466\n",
      "2  2015   0.202855  310.27970\n",
      "3  2016   0.173177  317.30692\n",
      "4  2017   0.166237  312.09015\n",
      "\n",
      "NDVI Anomalies:\n",
      "Empty DataFrame\n",
      "Columns: [Year, Mean_NDVI, NDVI_Z]\n",
      "Index: []\n",
      "\n",
      "LST Anomalies:\n",
      "   Year   Mean_LST     LST_Z\n",
      "6  2019  298.96082 -2.244109\n"
     ]
    }
   ],
   "source": [
    "import pandas as pd\n",
    "from scipy.stats import zscore\n",
    "\n",
    "# Load the CSV — make sure file path is correct\n",
    "df = pd.read_csv(\"NDVI_LST_Timeseries.csv\")\n",
    "\n",
    "# DEBUG: Print columns and head to validate load\n",
    "print(\"Columns:\", df.columns.tolist())\n",
    "print(\"First few rows:\\n\", df.head())\n",
    "\n",
    "# Check for expected columns\n",
    "if 'Mean_NDVI' in df.columns and 'Mean_LST' in df.columns:\n",
    "    # Compute z-scores\n",
    "    df['NDVI_Z'] = zscore(df['Mean_NDVI'])\n",
    "    df['LST_Z'] = zscore(df['Mean_LST'])\n",
    "\n",
    "    # Flag anomalies (|z| > 2)\n",
    "    ndvi_anomalies = df[abs(df['NDVI_Z']) > 2]\n",
    "    lst_anomalies = df[abs(df['LST_Z']) > 2]\n",
    "\n",
    "    print(\"\\nNDVI Anomalies:\")\n",
    "    print(ndvi_anomalies[['Year', 'Mean_NDVI', 'NDVI_Z']])\n",
    "\n",
    "    print(\"\\nLST Anomalies:\")\n",
    "    print(lst_anomalies[['Year', 'Mean_LST', 'LST_Z']])\n",
    "else:\n",
    "    print(\"ERROR: Expected columns not found in CSV.\")\n"
   ]
  }
 ],
 "metadata": {
  "kernelspec": {
   "display_name": "uhi_env",
   "language": "python",
   "name": "python3"
  },
  "language_info": {
   "codemirror_mode": {
    "name": "ipython",
    "version": 3
   },
   "file_extension": ".py",
   "mimetype": "text/x-python",
   "name": "python",
   "nbconvert_exporter": "python",
   "pygments_lexer": "ipython3",
   "version": "3.12.7"
  }
 },
 "nbformat": 4,
 "nbformat_minor": 2
}
